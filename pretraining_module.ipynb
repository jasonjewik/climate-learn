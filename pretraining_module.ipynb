{
 "cells": [
  {
   "cell_type": "code",
   "execution_count": 1,
   "id": "bc7bf0f1-f56a-4882-9041-acaa8a112320",
   "metadata": {
    "tags": []
   },
   "outputs": [],
   "source": [
    "%load_ext autoreload\n",
    "%autoreload 2"
   ]
  },
  {
   "cell_type": "code",
   "execution_count": 2,
   "id": "ae7e2011-35e8-4962-b302-06e031b53a26",
   "metadata": {
    "tags": []
   },
   "outputs": [
    {
     "name": "stderr",
     "output_type": "stream",
     "text": [
      "/home/jason.jewik/miniconda3/envs/climate/lib/python3.10/site-packages/tqdm/auto.py:21: TqdmWarning: IProgress not found. Please update jupyter and ipywidgets. See https://ipywidgets.readthedocs.io/en/stable/user_install.html\n",
      "  from .autonotebook import tqdm as notebook_tqdm\n"
     ]
    }
   ],
   "source": [
    "from climate_learn.data.climate_dataset.args import ERA5Args\n",
    "from climate_learn.data.task.args import PretrainingArgs, ForecastingArgs\n",
    "from climate_learn.data.dataset import MapDatasetArgs\n",
    "from climate_learn.data import DataModule"
   ]
  },
  {
   "cell_type": "code",
   "execution_count": 3,
   "id": "4d7f943a-cef1-49a5-887c-1450b934eb51",
   "metadata": {
    "tags": []
   },
   "outputs": [],
   "source": [
    "root_dir = \"/data0/datasets/weatherbench/data/weatherbench/era5/5.625deg\"\n",
    "variables = [\"geopotential_500\", \"temperature_850\"]\n",
    "history = 1\n",
    "subsample = 6\n",
    "pred_range = 72\n",
    "train_years = range(1979, 2015)\n",
    "val_years = range(2015, 2017)\n",
    "test_years = range(2017, 2019)"
   ]
  },
  {
   "cell_type": "code",
   "execution_count": 4,
   "id": "0d8d3011-88c9-456c-b005-9c1958308f04",
   "metadata": {
    "tags": []
   },
   "outputs": [],
   "source": [
    "climate_dataset_args = ERA5Args(\n",
    "    root_dir,\n",
    "    variables,\n",
    "    train_years,\n",
    "    split=\"train\"\n",
    ")"
   ]
  },
  {
   "cell_type": "code",
   "execution_count": 5,
   "id": "d29d4911-4e40-47b7-a3d2-cc0ef05ae5d8",
   "metadata": {
    "tags": []
   },
   "outputs": [],
   "source": [
    "pretraining_args = PretrainingArgs(variables, subsample)\n",
    "train_dataset_args = MapDatasetArgs(climate_dataset_args, pretraining_args)\n",
    "val_dataset_args = train_dataset_args.create_copy({\n",
    "    \"climate_dataset_args\": {\"years\": val_years, \"split\": \"val\"}\n",
    "})\n",
    "test_dataset_args = val_dataset_args.create_copy({\n",
    "    \"climate_dataset_args\": {\"years\": test_years, \"split\": \"test\"}\n",
    "})"
   ]
  },
  {
   "cell_type": "code",
   "execution_count": 6,
   "id": "35ddd1d7-f46e-4d5f-a3de-e30e6de10606",
   "metadata": {
    "tags": []
   },
   "outputs": [
    {
     "name": "stderr",
     "output_type": "stream",
     "text": [
      "100%|████████████████████████████████████████████████████████████████████████████████████████████████████████| 36/36 [00:01<00:00, 31.85it/s]\n",
      "100%|██████████████████████████████████████████████████████████████████████████████████████████████████████████| 2/2 [00:00<00:00, 74.47it/s]\n",
      "100%|██████████████████████████████████████████████████████████████████████████████████████████████████████████| 2/2 [00:00<00:00, 55.01it/s]\n"
     ]
    }
   ],
   "source": [
    "dm = DataModule(train_dataset_args, val_dataset_args, test_dataset_args)"
   ]
  },
  {
   "cell_type": "code",
   "execution_count": 7,
   "id": "30e1d8b8-5353-419f-a3f1-bc91c15ec11a",
   "metadata": {
    "tags": []
   },
   "outputs": [],
   "source": [
    "for batch in dm.train_dataloader():\n",
    "    break"
   ]
  },
  {
   "cell_type": "code",
   "execution_count": 13,
   "id": "dfebcdf0-145b-4f3a-8cf3-21f53b3a7055",
   "metadata": {
    "tags": []
   },
   "outputs": [],
   "source": [
    "x, times = batch[0], batch[1].flatten()\n",
    "var1 = x[:,0].unsqueeze(1)\n",
    "var2 = x[:,1].unsqueeze(1)"
   ]
  },
  {
   "cell_type": "code",
   "execution_count": 14,
   "id": "f1c0716d-bc71-446d-8101-d52fc9fbc3f7",
   "metadata": {},
   "outputs": [
    {
     "data": {
      "text/plain": [
       "torch.Size([64, 1, 32, 64])"
      ]
     },
     "execution_count": 14,
     "metadata": {},
     "output_type": "execute_result"
    }
   ],
   "source": [
    "var1.shape"
   ]
  },
  {
   "cell_type": "code",
   "execution_count": 15,
   "id": "a1d77da5-5f5f-4e4b-8a51-7a87f340753c",
   "metadata": {
    "tags": []
   },
   "outputs": [
    {
     "data": {
      "text/plain": [
       "torch.Size([64, 1, 32, 64])"
      ]
     },
     "execution_count": 15,
     "metadata": {},
     "output_type": "execute_result"
    }
   ],
   "source": [
    "var2.shape"
   ]
  },
  {
   "cell_type": "code",
   "execution_count": 16,
   "id": "8b2e738b-8ee1-4e6c-8089-3a5d8afdb5f7",
   "metadata": {
    "tags": []
   },
   "outputs": [
    {
     "data": {
      "text/plain": [
       "torch.Size([64])"
      ]
     },
     "execution_count": 16,
     "metadata": {},
     "output_type": "execute_result"
    }
   ],
   "source": [
    "times.shape"
   ]
  },
  {
   "cell_type": "code",
   "execution_count": 17,
   "id": "11a55bf8-844d-4cd6-ae4f-e45315896766",
   "metadata": {
    "tags": []
   },
   "outputs": [
    {
     "data": {
      "text/plain": [
       "tensor(0.0159)"
      ]
     },
     "execution_count": 17,
     "metadata": {},
     "output_type": "execute_result"
    }
   ],
   "source": [
    "var1.mean()"
   ]
  },
  {
   "cell_type": "code",
   "execution_count": 18,
   "id": "7a07631d-b0c2-4d4e-8555-3829e1745d0f",
   "metadata": {
    "tags": []
   },
   "outputs": [
    {
     "data": {
      "text/plain": [
       "tensor(0.9963)"
      ]
     },
     "execution_count": 18,
     "metadata": {},
     "output_type": "execute_result"
    }
   ],
   "source": [
    "var1.var()"
   ]
  },
  {
   "cell_type": "code",
   "execution_count": 19,
   "id": "337b64d0-5c68-4ca3-b45e-303b3ba0fe37",
   "metadata": {
    "tags": []
   },
   "outputs": [
    {
     "data": {
      "text/plain": [
       "tensor(0.0182)"
      ]
     },
     "execution_count": 19,
     "metadata": {},
     "output_type": "execute_result"
    }
   ],
   "source": [
    "var2.mean()"
   ]
  },
  {
   "cell_type": "code",
   "execution_count": 20,
   "id": "f8a8f95f-1ed3-43e4-b183-084dcf514c53",
   "metadata": {
    "tags": []
   },
   "outputs": [
    {
     "data": {
      "text/plain": [
       "tensor(1.0058)"
      ]
     },
     "execution_count": 20,
     "metadata": {},
     "output_type": "execute_result"
    }
   ],
   "source": [
    "var2.var()"
   ]
  },
  {
   "cell_type": "code",
   "execution_count": 47,
   "id": "88ac1d9d-4231-454f-be0b-94847d0f4d24",
   "metadata": {
    "tags": []
   },
   "outputs": [],
   "source": [
    "import torch\n",
    "import torch.nn.functional as F\n",
    "import numpy as np"
   ]
  },
  {
   "cell_type": "code",
   "execution_count": 24,
   "id": "25be0ed0-7a2a-4db5-9b30-41da8243de4d",
   "metadata": {
    "tags": []
   },
   "outputs": [],
   "source": [
    "end_of_data = torch.from_numpy(\n",
    "    np.array([\"2018-12-31T23:00:00\"], dtype=\"datetime64[h]\").astype(float)\n",
    ")"
   ]
  },
  {
   "cell_type": "code",
   "execution_count": 50,
   "id": "d6105cbf-3fc2-4e30-b3c0-f1d846a615d4",
   "metadata": {
    "tags": []
   },
   "outputs": [
    {
     "data": {
      "text/plain": [
       "torch.return_types.sort(\n",
       "values=tensor([ 91662.,  92490.,  96192., 100854., 101382., 113484., 120060., 120852.,\n",
       "        132684., 135774., 136152., 145260., 146808., 147870., 153522., 158760.,\n",
       "        159930., 168660., 171360., 183012., 192150., 193254., 193662., 196704.,\n",
       "        197046., 197694., 198546., 202680., 203712., 206106., 213408., 218160.,\n",
       "        224316., 224448., 224952., 233280., 238566., 257490., 270078., 278256.,\n",
       "        282618., 288474., 289518., 290028., 293238., 293856., 296112., 298548.,\n",
       "        302760., 304746., 307722., 316200., 318486., 319080., 321678., 327630.,\n",
       "        331866., 351828., 362076., 367074., 372666., 373680., 374928., 379776.],\n",
       "       dtype=torch.float64),\n",
       "indices=tensor([26, 54, 23,  7, 38, 31, 39, 55,  5, 58, 33,  9, 25, 21, 42, 22,  0, 28,\n",
       "        32, 24, 20, 43, 19, 60, 34, 27,  3, 17, 35, 48, 18, 46,  1, 16,  8, 36,\n",
       "        15,  6, 30, 45, 61, 29, 37, 10, 13, 56, 40, 14, 62, 44, 47, 52, 53, 12,\n",
       "         2, 51, 57, 11, 49,  4, 41, 50, 59, 63]))"
      ]
     },
     "execution_count": 50,
     "metadata": {},
     "output_type": "execute_result"
    }
   ],
   "source": [
    "times.sort()"
   ]
  },
  {
   "cell_type": "code",
   "execution_count": 83,
   "id": "1ce12c15-70a0-4703-a0aa-8b7f7eaf5803",
   "metadata": {
    "tags": []
   },
   "outputs": [
    {
     "data": {
      "text/plain": [
       "tensor([[ 1.0000e+00, -3.9689e-01, -2.1390e+03],\n",
       "        [-3.9689e-01,  1.0000e+00, -2.1376e+03],\n",
       "        [-2.1390e+03, -2.1376e+03,  1.0000e+00]], dtype=torch.float64)"
      ]
     },
     "execution_count": 83,
     "metadata": {},
     "output_type": "execute_result"
    }
   ],
   "source": [
    "new_times = torch.tensor([91662, 91668, 100854], dtype=float)\n",
    "n = new_times / (end_of_data * scale)\n",
    "n = n.repeat((3, 1))\n",
    "n = 1 - torch.abs(n - n.T)\n",
    "n"
   ]
  },
  {
   "cell_type": "code",
   "execution_count": 84,
   "id": "4bfe57c4-49ae-4a0e-984a-d7193b5f0de3",
   "metadata": {
    "tags": []
   },
   "outputs": [
    {
     "data": {
      "text/plain": [
       "tensor([[0.8017, 0.1983, 0.0000],\n",
       "        [0.1983, 0.8017, 0.0000],\n",
       "        [0.0000, 0.0000, 1.0000]], dtype=torch.float64)"
      ]
     },
     "execution_count": 84,
     "metadata": {},
     "output_type": "execute_result"
    }
   ],
   "source": [
    "F.softmax(n, dim=0)"
   ]
  },
  {
   "cell_type": "code",
   "execution_count": 82,
   "id": "77d3b9ae-7304-4b80-9ea4-3d0941c7184e",
   "metadata": {
    "tags": []
   },
   "outputs": [
    {
     "data": {
      "text/plain": [
       "tensor([[ 1.0000e+00, -1.4989e+04, -3.7656e+04,  ..., -2.8563e+04,\n",
       "         -3.3252e+04, -5.1182e+04],\n",
       "        [-1.4989e+04,  1.0000e+00, -2.2666e+04,  ..., -1.3573e+04,\n",
       "         -1.8262e+04, -3.6192e+04],\n",
       "        [-3.7656e+04, -2.2666e+04,  1.0000e+00,  ..., -9.0927e+03,\n",
       "         -4.4034e+03, -1.3525e+04],\n",
       "        ...,\n",
       "        [-2.8563e+04, -1.3573e+04, -9.0927e+03,  ...,  1.0000e+00,\n",
       "         -4.6883e+03, -2.2619e+04],\n",
       "        [-3.3252e+04, -1.8262e+04, -4.4034e+03,  ..., -4.6883e+03,\n",
       "          1.0000e+00, -1.7929e+04],\n",
       "        [-5.1182e+04, -3.6192e+04, -1.3525e+04,  ..., -2.2619e+04,\n",
       "         -1.7929e+04,  1.0000e+00]], dtype=torch.float64)"
      ]
     },
     "execution_count": 82,
     "metadata": {},
     "output_type": "execute_result"
    }
   ],
   "source": [
    "scale = 1e-5\n",
    "t = times / (end_of_data * scale)\n",
    "t = t.repeat((x.shape[0], 1))\n",
    "t = 1 - torch.abs(t - t.T)\n",
    "t"
   ]
  },
  {
   "cell_type": "code",
   "execution_count": 77,
   "id": "7cb9ed45-3234-44f5-bb72-493cbd36acad",
   "metadata": {
    "tags": []
   },
   "outputs": [
    {
     "data": {
      "text/plain": [
       "tensor(0.8949, dtype=torch.float64)"
      ]
     },
     "execution_count": 77,
     "metadata": {},
     "output_type": "execute_result"
    }
   ],
   "source": [
    "F.softmax(t, dim=0)[26,26]"
   ]
  },
  {
   "cell_type": "code",
   "execution_count": 78,
   "id": "6073016b-d203-46f2-83c2-2ecbe85fc9d7",
   "metadata": {
    "tags": []
   },
   "outputs": [
    {
     "data": {
      "text/plain": [
       "tensor(0.1051, dtype=torch.float64)"
      ]
     },
     "execution_count": 78,
     "metadata": {},
     "output_type": "execute_result"
    }
   ],
   "source": [
    "F.softmax(t, dim=0)[26,54]"
   ]
  },
  {
   "cell_type": "code",
   "execution_count": 79,
   "id": "3cab5c45-b87d-4727-848e-28a24a395894",
   "metadata": {
    "tags": []
   },
   "outputs": [
    {
     "data": {
      "text/plain": [
       "tensor(0., dtype=torch.float64)"
      ]
     },
     "execution_count": 79,
     "metadata": {},
     "output_type": "execute_result"
    }
   ],
   "source": [
    "F.softmax(t, dim=0)[26,63]"
   ]
  },
  {
   "cell_type": "code",
   "execution_count": 33,
   "id": "fe5ea9c4-00d7-4dfb-af41-74330077d2a0",
   "metadata": {
    "tags": []
   },
   "outputs": [],
   "source": [
    "import datetime"
   ]
  },
  {
   "cell_type": "code",
   "execution_count": 80,
   "id": "c8275160-6612-4077-b1e3-4b5d5c5b3558",
   "metadata": {},
   "outputs": [
    {
     "data": {
      "text/plain": [
       "datetime.datetime(1992, 1, 17, 22, 0)"
      ]
     },
     "execution_count": 80,
     "metadata": {},
     "output_type": "execute_result"
    }
   ],
   "source": [
    "datetime.datetime.fromtimestamp(193254*60*60)"
   ]
  },
  {
   "cell_type": "code",
   "execution_count": 31,
   "id": "0f785648-a847-47bb-ac68-075407b33f8f",
   "metadata": {
    "tags": []
   },
   "outputs": [
    {
     "data": {
      "text/plain": [
       "tensor(91662., dtype=torch.float64)"
      ]
     },
     "execution_count": 31,
     "metadata": {},
     "output_type": "execute_result"
    }
   ],
   "source": [
    "times.min()"
   ]
  },
  {
   "cell_type": "code",
   "execution_count": 32,
   "id": "595b5233-a8e3-43ef-9885-2298bc24ae2d",
   "metadata": {
    "tags": []
   },
   "outputs": [
    {
     "data": {
      "text/plain": [
       "tensor(379776., dtype=torch.float64)"
      ]
     },
     "execution_count": 32,
     "metadata": {},
     "output_type": "execute_result"
    }
   ],
   "source": [
    "times.max()"
   ]
  },
  {
   "cell_type": "code",
   "execution_count": 81,
   "id": "edba4c21-f24f-4b93-b4a0-5e9982e60adc",
   "metadata": {
    "tags": []
   },
   "outputs": [
    {
     "data": {
      "text/plain": [
       "datetime.datetime(1992, 2, 3, 22, 0)"
      ]
     },
     "execution_count": 81,
     "metadata": {},
     "output_type": "execute_result"
    }
   ],
   "source": [
    "datetime.datetime.fromtimestamp(193662*60*60)"
   ]
  },
  {
   "cell_type": "code",
   "execution_count": null,
   "id": "fbef7e6e-eea4-464d-b72c-e52424da7a73",
   "metadata": {},
   "outputs": [],
   "source": []
  }
 ],
 "metadata": {
  "kernelspec": {
   "display_name": "climate",
   "language": "python",
   "name": "climate"
  },
  "language_info": {
   "codemirror_mode": {
    "name": "ipython",
    "version": 3
   },
   "file_extension": ".py",
   "mimetype": "text/x-python",
   "name": "python",
   "nbconvert_exporter": "python",
   "pygments_lexer": "ipython3",
   "version": "3.10.9"
  }
 },
 "nbformat": 4,
 "nbformat_minor": 5
}
