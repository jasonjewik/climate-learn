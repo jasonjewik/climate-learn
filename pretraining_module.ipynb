{
 "cells": [
  {
   "cell_type": "code",
   "execution_count": 1,
   "id": "bc7bf0f1-f56a-4882-9041-acaa8a112320",
   "metadata": {
    "tags": []
   },
   "outputs": [],
   "source": [
    "%load_ext autoreload\n",
    "%autoreload 2"
   ]
  },
  {
   "cell_type": "code",
   "execution_count": 2,
   "id": "ae7e2011-35e8-4962-b302-06e031b53a26",
   "metadata": {
    "tags": []
   },
   "outputs": [
    {
     "name": "stderr",
     "output_type": "stream",
     "text": [
      "/home/jason.jewik/miniconda3/envs/climate/lib/python3.10/site-packages/tqdm/auto.py:21: TqdmWarning: IProgress not found. Please update jupyter and ipywidgets. See https://ipywidgets.readthedocs.io/en/stable/user_install.html\n",
      "  from .autonotebook import tqdm as notebook_tqdm\n"
     ]
    }
   ],
   "source": [
    "from climate_learn.data.climate_dataset.args import ERA5Args\n",
    "from climate_learn.data.task.args import PretrainingArgs\n",
    "from climate_learn.data.dataset import MapDatasetArgs\n",
    "from climate_learn.data import DataModule"
   ]
  },
  {
   "cell_type": "code",
   "execution_count": 3,
   "id": "4d7f943a-cef1-49a5-887c-1450b934eb51",
   "metadata": {
    "tags": []
   },
   "outputs": [],
   "source": [
    "root_dir = \"/data0/datasets/weatherbench/data/weatherbench/era5/5.625deg\"\n",
    "variables = [\"geopotential_500\", \"temperature_850\"]\n",
    "subsample = 6\n",
    "train_years = range(1979, 2015)\n",
    "val_years = range(2015, 2017)\n",
    "test_years = range(2017, 2019)"
   ]
  },
  {
   "cell_type": "code",
   "execution_count": 4,
   "id": "0d8d3011-88c9-456c-b005-9c1958308f04",
   "metadata": {
    "tags": []
   },
   "outputs": [],
   "source": [
    "climate_dataset_args = ERA5Args(\n",
    "    root_dir,\n",
    "    variables,\n",
    "    train_years,\n",
    "    split=\"train\"\n",
    ")"
   ]
  },
  {
   "cell_type": "code",
   "execution_count": 5,
   "id": "d29d4911-4e40-47b7-a3d2-cc0ef05ae5d8",
   "metadata": {
    "tags": []
   },
   "outputs": [],
   "source": [
    "pretraining_args = PretrainingArgs(variables, subsample)\n",
    "train_dataset_args = MapDatasetArgs(climate_dataset_args, pretraining_args)\n",
    "val_dataset_args = train_dataset_args.create_copy({\n",
    "    \"climate_dataset_args\": {\"years\": val_years, \"split\": \"val\"}\n",
    "})\n",
    "test_dataset_args = val_dataset_args.create_copy({\n",
    "    \"climate_dataset_args\": {\"years\": test_years, \"split\": \"test\"}\n",
    "})"
   ]
  },
  {
   "cell_type": "code",
   "execution_count": 6,
   "id": "35ddd1d7-f46e-4d5f-a3de-e30e6de10606",
   "metadata": {
    "tags": []
   },
   "outputs": [
    {
     "name": "stderr",
     "output_type": "stream",
     "text": [
      "100%|██████████████████████████████████████████████████████████████████████████████████████████████████████████████████| 36/36 [00:00<00:00, 54.98it/s]\n",
      "100%|████████████████████████████████████████████████████████████████████████████████████████████████████████████████████| 2/2 [00:00<00:00, 74.11it/s]\n",
      "100%|████████████████████████████████████████████████████████████████████████████████████████████████████████████████████| 2/2 [00:00<00:00, 75.84it/s]\n"
     ]
    }
   ],
   "source": [
    "dm = DataModule(train_dataset_args, val_dataset_args, test_dataset_args)"
   ]
  },
  {
   "cell_type": "code",
   "execution_count": 7,
   "id": "30e1d8b8-5353-419f-a3f1-bc91c15ec11a",
   "metadata": {
    "tags": []
   },
   "outputs": [],
   "source": [
    "for batch in dm.train_dataloader():\n",
    "    break"
   ]
  },
  {
   "cell_type": "code",
   "execution_count": 22,
   "id": "dfebcdf0-145b-4f3a-8cf3-21f53b3a7055",
   "metadata": {
    "tags": []
   },
   "outputs": [],
   "source": [
    "var1 = batch[0][0]\n",
    "var2 = batch[0][1]\n",
    "times = batch[1]"
   ]
  },
  {
   "cell_type": "code",
   "execution_count": 9,
   "id": "33c91e44-d491-4092-875c-6558edced958",
   "metadata": {
    "tags": []
   },
   "outputs": [
    {
     "data": {
      "text/plain": [
       "torch.Size([2, 32, 64])"
      ]
     },
     "execution_count": 9,
     "metadata": {},
     "output_type": "execute_result"
    }
   ],
   "source": [
    "var1.shape"
   ]
  },
  {
   "cell_type": "code",
   "execution_count": 12,
   "id": "e28d03e6-c727-4774-8975-d3138b93e1ca",
   "metadata": {
    "tags": []
   },
   "outputs": [
    {
     "data": {
      "text/plain": [
       "torch.Size([64, 2, 32, 64])"
      ]
     },
     "execution_count": 12,
     "metadata": {},
     "output_type": "execute_result"
    }
   ],
   "source": [
    "batch[0].shape"
   ]
  },
  {
   "cell_type": "code",
   "execution_count": 21,
   "id": "352b652f-e3fc-4634-bc70-6e4bd6ea34fa",
   "metadata": {
    "tags": []
   },
   "outputs": [
    {
     "data": {
      "text/plain": [
       "torch.Size([64, 1, 32, 64])"
      ]
     },
     "execution_count": 21,
     "metadata": {},
     "output_type": "execute_result"
    }
   ],
   "source": [
    "batch[0][:,0].unsqueeze(1).shape"
   ]
  },
  {
   "cell_type": "code",
   "execution_count": null,
   "id": "e1ce14a8-ad34-4c2f-bd9f-7d7cfe8b199d",
   "metadata": {},
   "outputs": [],
   "source": [
    "var1"
   ]
  },
  {
   "cell_type": "code",
   "execution_count": 25,
   "id": "3cd5ebc9-14ce-41cf-836a-a82f71594818",
   "metadata": {
    "tags": []
   },
   "outputs": [
    {
     "data": {
      "text/plain": [
       "tensor([386076., 180336., 142338., 389052., 302256., 229212., 242226., 367110.,\n",
       "        305736., 366108.,  84942., 106692., 114582., 230586., 269826., 304770.,\n",
       "        167400.,  92736., 282774., 344016., 259722., 281046., 217176., 347784.,\n",
       "        184548., 345996., 194064., 234690., 370668., 216360., 370986., 152376.,\n",
       "        259236., 186774., 130128., 249096., 355932.,  93516., 390780., 369852.,\n",
       "        323634., 233412., 198564., 298146., 175428., 182988., 282204., 365940.,\n",
       "        283776., 342072., 138792.,  89256., 229086., 319854., 167928., 373836.,\n",
       "        109422.,  93096., 116298., 100458.,  79482., 127722., 341442., 335250.],\n",
       "       dtype=torch.float64)"
      ]
     },
     "execution_count": 25,
     "metadata": {},
     "output_type": "execute_result"
    }
   ],
   "source": [
    "times.flatten()"
   ]
  },
  {
   "cell_type": "code",
   "execution_count": null,
   "id": "f1c0716d-bc71-446d-8101-d52fc9fbc3f7",
   "metadata": {},
   "outputs": [],
   "source": []
  }
 ],
 "metadata": {
  "kernelspec": {
   "display_name": "climate",
   "language": "python",
   "name": "climate"
  },
  "language_info": {
   "codemirror_mode": {
    "name": "ipython",
    "version": 3
   },
   "file_extension": ".py",
   "mimetype": "text/x-python",
   "name": "python",
   "nbconvert_exporter": "python",
   "pygments_lexer": "ipython3",
   "version": "3.10.9"
  }
 },
 "nbformat": 4,
 "nbformat_minor": 5
}
