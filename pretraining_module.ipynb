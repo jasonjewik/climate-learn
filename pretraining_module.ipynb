{
 "cells": [
  {
   "cell_type": "code",
   "execution_count": 1,
   "id": "bc7bf0f1-f56a-4882-9041-acaa8a112320",
   "metadata": {
    "tags": []
   },
   "outputs": [],
   "source": [
    "%load_ext autoreload\n",
    "%autoreload 2"
   ]
  },
  {
   "cell_type": "code",
   "execution_count": 2,
   "id": "ae7e2011-35e8-4962-b302-06e031b53a26",
   "metadata": {
    "tags": []
   },
   "outputs": [
    {
     "name": "stderr",
     "output_type": "stream",
     "text": [
      "/home/jason.jewik/miniconda3/envs/climate/lib/python3.10/site-packages/tqdm/auto.py:21: TqdmWarning: IProgress not found. Please update jupyter and ipywidgets. See https://ipywidgets.readthedocs.io/en/stable/user_install.html\n",
      "  from .autonotebook import tqdm as notebook_tqdm\n"
     ]
    }
   ],
   "source": [
    "from climate_learn.data.climate_dataset.args import ERA5Args\n",
    "from climate_learn.data.task.args import PretrainingArgs\n",
    "from climate_learn.data.dataset import MapDatasetArgs\n",
    "from climate_learn.data import DataModule"
   ]
  },
  {
   "cell_type": "code",
   "execution_count": 3,
   "id": "4d7f943a-cef1-49a5-887c-1450b934eb51",
   "metadata": {
    "tags": []
   },
   "outputs": [],
   "source": [
    "root_dir = \"/data0/datasets/weatherbench/data/weatherbench/era5/5.625deg\"\n",
    "variables = [\"geopotential_500\", \"temperature_850\"]\n",
    "subsample = 6\n",
    "train_years = range(1979, 2015)\n",
    "val_years = range(2015, 2017)\n",
    "test_years = range(2017, 2019)"
   ]
  },
  {
   "cell_type": "code",
   "execution_count": 4,
   "id": "0d8d3011-88c9-456c-b005-9c1958308f04",
   "metadata": {
    "tags": []
   },
   "outputs": [],
   "source": [
    "climate_dataset_args = ERA5Args(\n",
    "    root_dir,\n",
    "    variables,\n",
    "    train_years,\n",
    "    split=\"train\"\n",
    ")"
   ]
  },
  {
   "cell_type": "code",
   "execution_count": 5,
   "id": "d29d4911-4e40-47b7-a3d2-cc0ef05ae5d8",
   "metadata": {
    "tags": []
   },
   "outputs": [],
   "source": [
    "pretraining_args = PretrainingArgs(variables, subsample)\n",
    "train_dataset_args = MapDatasetArgs(climate_dataset_args, pretraining_args)\n",
    "val_dataset_args = train_dataset_args.create_copy({\n",
    "    \"climate_dataset_args\": {\"years\": val_years, \"split\": \"val\"}\n",
    "})\n",
    "test_dataset_args = val_dataset_args.create_copy({\n",
    "    \"climate_dataset_args\": {\"years\": test_years, \"split\": \"test\"}\n",
    "})"
   ]
  },
  {
   "cell_type": "code",
   "execution_count": 44,
   "id": "35ddd1d7-f46e-4d5f-a3de-e30e6de10606",
   "metadata": {
    "tags": []
   },
   "outputs": [
    {
     "name": "stderr",
     "output_type": "stream",
     "text": [
      "100%|██████████████████████████████████████████████████████████████████████████████████████████████████████████████████| 36/36 [00:00<00:00, 75.14it/s]\n",
      "100%|████████████████████████████████████████████████████████████████████████████████████████████████████████████████████| 2/2 [00:00<00:00, 78.64it/s]\n",
      "100%|████████████████████████████████████████████████████████████████████████████████████████████████████████████████████| 2/2 [00:00<00:00, 66.52it/s]\n"
     ]
    }
   ],
   "source": [
    "dm = DataModule(train_dataset_args, val_dataset_args, test_dataset_args)"
   ]
  },
  {
   "cell_type": "code",
   "execution_count": 61,
   "id": "30e1d8b8-5353-419f-a3f1-bc91c15ec11a",
   "metadata": {
    "tags": []
   },
   "outputs": [],
   "source": [
    "for batch in dm.train_dataloader():\n",
    "    break"
   ]
  },
  {
   "cell_type": "code",
   "execution_count": 65,
   "id": "dfebcdf0-145b-4f3a-8cf3-21f53b3a7055",
   "metadata": {
    "tags": []
   },
   "outputs": [],
   "source": [
    "var1 = batch[0][0]\n",
    "var2 = batch[0][1]\n",
    "times_in_hours_since_epoch = batch[1]"
   ]
  }
 ],
 "metadata": {
  "kernelspec": {
   "display_name": "climate",
   "language": "python",
   "name": "climate"
  },
  "language_info": {
   "codemirror_mode": {
    "name": "ipython",
    "version": 3
   },
   "file_extension": ".py",
   "mimetype": "text/x-python",
   "name": "python",
   "nbconvert_exporter": "python",
   "pygments_lexer": "ipython3",
   "version": "3.10.9"
  }
 },
 "nbformat": 4,
 "nbformat_minor": 5
}
